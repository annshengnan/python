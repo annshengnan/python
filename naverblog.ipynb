{
 "cells": [
  {
   "cell_type": "code",
   "execution_count": 1,
   "source": [
    "import requests\r\n",
    "import lxml\r\n",
    "from bs4 import BeautifulSoup\r\n",
    "url = 'https://search.naver.com/search.naver?query=%EC%BD%94%EB%A1%9C%EB%82%98%20%EB%B0%B1%EC%8B%A0&nso=&where=blog&sm=tab_opt'\r\n",
    "res = requests.get(url, verify=True)\r\n",
    "res.raise_for_status()\r\n",
    "soup = BeautifulSoup(res.text, 'html')"
   ],
   "outputs": [],
   "metadata": {}
  },
  {
   "cell_type": "code",
   "execution_count": 2,
   "source": [
    "blogs = soup.find_all('a', attrs = {'class': 'api_txt_lines total_tit'})\r\n",
    "blog_list = []\r\n",
    "for i in blogs:\r\n",
    "    blog = i.get_text()\r\n",
    "    blog_list.append(blog)\r\n",
    "print(blog_list)"
   ],
   "outputs": [
    {
     "output_type": "stream",
     "name": "stdout",
     "text": [
      "['코로나 백신 예방접종 증명서 발급 방법 COOV', '[약사엄마의 건강이야기] 코로나19 백신 2차 접종을 마치다... ', '세파클러캅셀 항생제 알러지 경험자, 코로나 백신 접종했어요 :)', '코로나19 백신 1차 접종 완료 후기 - 존나좋군', '아스트라제네카 코로나백신 7일차 후기 :: AZ신청/ 부작용... ', '코로나 19 백신에 대한 반응이 낮은 그룹은?', '코로나19 잔여백신 예약 성공 ! 얀센 부작용 후기, 예방접종... ', '코로나 백신 예방접종 변경 화이자 1차접종 후기', '일산 박지훈내과 코로나백신 화이자 1차 접종 후기', '모더나 화이자 코로나 백신 접종후 숨가쁨 숨참 등 숨쉬기... ', '코로나 백신 맞기는 맞아야 하는데.......', '코로나 백신 접종 전에 준비하자! 올바른 진통제 선택법은?', '코로나19 아스트라제네카.화이자 백신 교차접종 후기~', '코로나19 예방접종 절차 주의사항 노쇼 잔여백신예약', '[약사엄마의 건강이야기] 코로나19 백신 접종 완료자들은... ', '코로나 백신예약 방법 / 10부제 예약 성공 (+취소/예약변경)', '코로나 백신 접종 (코비드 19) 예약 신청', '코로나19 백신의 종류와 원리 - 한 눈에 모아본 백신 종류와... ', '코로나 백신 해열제 궁금증, 메디스캔에서 확인하세요!', '코로나백신 위탁의료기관, 휴병원', '코로나백신 1차접종한날', '코로나백신 교차접종 부작용 3일 후기 : 아스트라제네카 1차... ', '코로나 19 백신과 보톡스 시술', '백신보다 코로나 19 감염이 혈전 위험도를 크게 높인다', '코로나 백신 이상반응 신고, 보상 신청 절차 카드뉴스', '코로나 백신 2차 화이자 교차접종 후기', '코로나 백신 화이자 1차접종, 간만의 육아기록 / Sat... ', '코로나 백신 맞기 전에 꼭 확인하기, 아나필락시스 쇼크란?', '경☆ 아이진 코로나19 mRNA 백신 1/2a상 임상시험계획 승인... ', '코로나 화이자 백신 접종 후기 부작용 & 리바이스 스타디움 관광기']\n"
     ]
    }
   ],
   "metadata": {}
  },
  {
   "cell_type": "code",
   "execution_count": 3,
   "source": [
    "IDs = soup.find_all('span', attrs = {'class': 'elss etc_dsc_inner'})\r\n",
    "ID_list = []\r\n",
    "for i in IDs:\r\n",
    "    ID = i.get_text()\r\n",
    "    ID_list.append(ID)\r\n",
    "print(ID_list)"
   ],
   "outputs": [
    {
     "output_type": "stream",
     "name": "stdout",
     "text": [
      "[' 살아있는인형가게 ``°³о♡ ', ' 힐링컴즈 / 수원메디칼약국 ', ' 하루기록장 ', ' Re: 제로부터 시작하는 이 세계 사활 ', ' 101번째 타르트 ', ' 고든의 블로그 ', ' 만렙주부 ♥ ', ' 백잎클로버의 1+2 이야기 ', ' 행자의 쫄깃한 공간 ', ' 오늘이야기 ', ' 민영일의 건강을 생각하는 블로그 ', ' 동국제약 블로그 ', ' 따랑해의 엄마표 육아교육 감성놀이 ', ' 서울경희 통합의원+한의원 양한방통합클리닉 ', ' 힐링컴즈 / 수원메디칼약국 ', ' 도다맘 블로그 ', ' 최봉균의 얼굴뼈이야기 ', ' 다니엘 생명과학 이야기 ', ' 비교할 수 없는 선택 메디스캔 ', ' 건강한 휴식, 휴병원 ', ' 싱싱파파의 육아일기 ', ' Homeschooling & Play ', ' 피부과전문의 김지영원장의 닥터센서티브 ', ' 고든의 블로그 ', ' 일기당천 1인기업화 컨설턴트의 월 천만원 프로젝트 ', ' 하드렌즈 전문 안경사 이야기입니다. ', \" 作家マミー 줄리팍's 육아 Life \", ' 동국제약 블로그 ', ' ITS Tours!: IT & Smart Tours ', ' 최봉균의 얼굴뼈이야기 ']\n"
     ]
    }
   ],
   "metadata": {}
  },
  {
   "cell_type": "code",
   "execution_count": 4,
   "source": [
    "times = soup.find_all('span', attrs = {'class': 'sub_time sub_txt'})\r\n",
    "time_list = []\r\n",
    "for i in times:\r\n",
    "    time = i.get_text()\r\n",
    "    time_list.append(time)\r\n",
    "print(time_list)"
   ],
   "outputs": [
    {
     "output_type": "stream",
     "name": "stdout",
     "text": [
      "['2021.07.01.', '2021.07.15.', '2021.07.25.', '10시간 전', '2021.05.06.', '2일 전', '2021.06.14.', '2021.07.29.', '3일 전', '7일 전', '2021.05.24.', '2021.07.05.', '22시간 전', '2021.05.28.', '13시간 전', '2021.08.09.', '2021.04.18.', '2021.07.17.', '6일 전', '어제', '2일 전', '2021.07.19.', '2021.08.16.', '3시간 전', '2021.08.23.', '3시간 전', '3일 전', '2021.06.01.', '2일 전', '2021.04.21.']\n"
     ]
    }
   ],
   "metadata": {}
  },
  {
   "cell_type": "code",
   "execution_count": 5,
   "source": [
    "contents = soup.find_all('div', attrs = {'class': 'api_txt_lines dsc_txt'})\r\n",
    "content_list = []\r\n",
    "for i in contents:\r\n",
    "    content = i.get_text()\r\n",
    "    content_list.append(content)\r\n",
    "print(content_list)"
   ],
   "outputs": [
    {
     "output_type": "stream",
     "name": "stdout",
     "text": [
      "['병원에 근무하다보니 (의료진은 아니지만) 국내에 처음 코로나 예방접종이... 세계적으로 백신접종을 완료한 사람들에게 혜택을 제공하기 위해 코로나 백신 예방접종... ', '드디어 #코로나19 백신 2차 접종을 마쳤다. 지난 4월에 1차 접종으로... 주에 #화이자 백신으로 2차 접종을 했다. 드디어 코로나백신 접종을 완료했다! © hakannural, 출처... ', '바로, 약물알레르기 보유자의 코로나 백신 접종 !!! 접종 전, 알레르기 내과... 그래서 전 백신 접종을 선택했어요. 사실 알레르기 내과 다녀오고도 좀 ..불안했는데.... ', '드디어 오늘 코로나19 1차 예방 접종을 완료했습니다. 코비드19 COVID19 저는 화이자 백신을 맞았습니다. 앞서 코로나 백신 사전 예약 방법 및 절차 (인터넷, 18세~49세, 21년... ', '코로나백신두통 #코로나백신삼겹살 #백신타이레놀 #아스트라제네카부작용 #코로나백신두통 #백신두통 #백신발열 #백신몸살 #백신휴가 #백신접종후출근', '현재 사용되는 코로나 19 백신은 강한 면역 반응을 유도해 바이러스 침투를 막고 설령 침투하더라도 중증 및 사망 진행 가능성을 현저히 낮출 수 있습니다.... ', '얀센백신 부작용, 후기 예방접종 도우미에 따르면 지금현재 우리나라에서는 4가지 코로나 백신종류 맞는게 가능한데, 모두 생백신은 아니라서 코로나19 감염을... ', '미리 예약해둔 코로나 19 백신 예방접종 맞으러 다녀오고 어제 꼬박 잤던거 같아요. 코로나 백신 맞은 당일에는 샤워도 삼가하래서 운동 열심히 40여분 넘게 하고 코로나... ', '일산 박지훈내과 코로나백신 화이자 1차 접종 후기 잔여백신을 그렇게 맞고 싶었는데 단 한번도 성공하지못했고 … 결국 18~ 49세 10부제 예약할 때 예약을 하게 되었다.... ', '코로나 백신으로 아스트라제네카를 위주로 접종을 하던 시기에는 희귀혈전에 관련된 부작용이 많이 언급되었었지만 화이자 및 모더나 같은 mRNA백신 접종이 주를... ', '코로나 백신을 맞아야 하느냐고 물어보는 분이 많다. 이들의 속내를 보면 백신을... 직원, 코로나 환자를 치료하는 병원의 의료인, 올림픽 예비 선수로 등록된 프로... ', '코로나19 백신 접종 후 아세트아미노펜 성분의 의약품, 체온계 등을 온라인에서 판매하는 경우도 생겨났습니다. 이는 안전성과 효과성이 확인되지 않았고 유통 중... ', '잔여 백신 예약하셔서 사전 접종하시는 것도 좋은 방법인 것 같더라고요~~~~ 코로나가 언제쯤 끝날지..... #아스트라제네카 #코로나백신19 #코로나 #코로나접종... ', '통한 코로나 백신 예방접종이 시작되었습니다. 60세부터 74세까지는 6월 3일까지... 코로나 잔여백신 당일예약은 무엇인가요? 백신접종 위탁기관에서는 미리... ', '코로나19 백신 접종이 비교적 원활하게 이루어지면서, 대한민국의 경우 1차 접종 완료자는 성인의 50%가 넘었고, 접종 완료자 역시 30%를 넘겼습니다. 이에... ', '안녕하세요 :) 오늘 오후 8시 부터 시작된 #코로나백신10부제 혹시 예약... 검색 탭에 들어가 #백신접종예약 을 검색했더니 바로 예약사이트가 떠요. 코로나19 예방접종... ', '다른 백신들은 아니겠거니 하고 스케줄을 잡아봅니다. 그래서 myturn에 들어가서 스케줄을 잡습니다. 코로나 백신 접종 (코비드 19)을 위한 장소들이 지역명을... ', '출처 : 한국경제 오늘은 코로나19 백신의 종류와 예방 원리에 대해 잠시 알아보는... 첨부파일 코로나백신001.png 파일 다운로드 언제쯤 마스크를 벗고 일상으로... ', '코로나 백신 접종에 도움이 되는 수액 이벤트를 메디스캔에서 진행하고 있습니다. (1) 몸살 회복 수액 : 백신 접종 후 컨디션 회복을 돞습니다. 활성비타민 B1이 포함되어... ', '코로나백신과 관련한 내용은 휴병원 블로그를 통해서 자세히 안내해드리고 있으니 참고하세요! 코로나19백신 예약방법 (온라인 및 콜센터 대리예약 가능) 부산광역시... ', '오늘은 코로나백신 1차접종 하는날. 화이자를 맞았다. 근육통이 있고 아직 다행히... 비가 많이 와서 아기띠를 하고 다녀왔고 백신접종 할때부터 비는 많이 내렸다.... ', '#코로나백신 #코로나백신부작용 #코로나19백신 #아스트라제네카 #아스트라제네카백신 #코로나19아스트라제네카 #아스트타제네카부작용 #AZ부작용 #AZ백신 #화이자백신... ', '백신과 피부과 치료의 상호작용에 대해서는 다음 칼럼을 참조하세요. 코로나 백신과 피부과 약물처방 코로나 백신과 피부과 필러시술 감사합니다.', '하지만 같은 기간 백신 접종 없이 코로나 19에 감염 되는 경우 혈전 위험성은 비교가 되지 않을 만큼 증가하는 것으로 나타났습니다. 이 전수 조사... ', '기준, 코로나 백신 접종이 시작된 지 176일 만에 전 국민 절반에 해당하는 50%, 총... 백신 이상반응에 대한 보상 신청 만약 코로나19 백신 예방 접종을 받은 후 이상... ', '< 코로나19 예방 백신 1차 아스트라제네카 접종 후기> 드디어 오늘이 코로나 백신 2차 접종일이다. 잔여백신을 통해 지난 6월에 아스트라제네카 1차 접종을 마쳤었다.... ', '아이 학교 보내놓고 나는 약국에 타이레놀 사러~ 오후에 #코로나백신 예약이 되어있어 긴장했다 ㅎ 코로나 #백신 맞으면 죽을 수 있다는 반 아이 말에 집에 와서 엉엉... ', '신종 #코로나19백신 접종이 본격적으로 이루어지면서 많은 사람들의 관심이 주목되고 있습니다. 고통스러운 #팬데믹 상황을 하루빨리 끝내기 위해 많은 사람들이 접종에... ', 'mRNA 코로나 백신인 EG-COVID의 1/2a 상 임상시험계획이 승인되었습니다. 국내 자체 개발 mRNA 백신으로는 최초입니다. (큐라티스는 기본적으로 미국 HDT... ', '코로나 화이자 백신 접종 후기 부작용 & 리바이스 스타디움 관광기 San Francisco 49ers... 이름표와 백신표을 줍니다. 파랑색표에 적혀있듯이 코로나 백신은 화이자! 바로... ']\n"
     ]
    }
   ],
   "metadata": {}
  },
  {
   "cell_type": "code",
   "execution_count": 22,
   "source": [
    "links = soup.find_all('a', attrs = {'class': 'api_txt_lines total_tit'})\r\n",
    "link_list = []\r\n",
    "for i in links:\r\n",
    "    link = i['href']\r\n",
    "    link_list.append(link)\r\n",
    "print(link_list)"
   ],
   "outputs": [
    {
     "output_type": "stream",
     "name": "stdout",
     "text": [
      "['https://blog.naver.com/green557?Redirect=Log&logNo=222416502640', 'https://blog.naver.com/happymedicalwriter?Redirect=Log&logNo=222432394270', 'https://blog.naver.com/talove0831?Redirect=Log&logNo=222444685420', 'https://blog.naver.com/ssangga2004?Redirect=Log&logNo=222492424704', 'https://blog.naver.com/eggtta?Redirect=Log&logNo=222339425236', 'https://blog.naver.com/jjy0501?Redirect=Log&logNo=222485331363', 'https://blog.naver.com/andyfirstlv?Redirect=Log&logNo=222397095393', 'https://blog.naver.com/djpinky?Redirect=Log&logNo=222450155033', 'https://blog.naver.com/hysz5043?Redirect=Log&logNo=222488927034', 'https://blog.naver.com/sitta777?Redirect=Log&logNo=222484536981', 'https://blog.naver.com/yimin3181?Redirect=Log&logNo=222363474471', 'https://blog.naver.com/dkdkpad?Redirect=Log&logNo=222417619408', 'https://blog.naver.com/80milk?Redirect=Log&logNo=222491078910', 'https://blog.naver.com/mdkmd?Redirect=Log&logNo=222372068057', 'https://blog.naver.com/happymedicalwriter?Redirect=Log&logNo=222492267620', 'https://blog.naver.com/khn619?Redirect=Log&logNo=222463444045', 'https://blog.naver.com/goodprofile?Redirect=Log&logNo=222314080240', 'https://blog.naver.com/genetic2002?Redirect=Log&logNo=222434653719', 'https://blog.naver.com/medimer?Redirect=Log&logNo=222485533160', 'https://blog.naver.com/huhospital?Redirect=Log&logNo=222491506958', 'https://blog.naver.com/jung1332?Redirect=Log&logNo=222490759985', 'https://blog.naver.com/boco219?Redirect=Log&logNo=222436927792', 'https://blog.naver.com/divadance?Redirect=Log&logNo=222472272891', 'https://blog.naver.com/jjy0501?Redirect=Log&logNo=222486580214', 'https://blog.naver.com/1day1study?Redirect=Log&logNo=222479835059', 'https://blog.naver.com/thebomeye?Redirect=Log&logNo=222492855145', 'https://blog.naver.com/julie_pak?Redirect=Log&logNo=222488660289', 'https://blog.naver.com/dkdkpad?Redirect=Log&logNo=222369959982', 'https://blog.naver.com/johnlee08?Redirect=Log&logNo=222490382478', 'https://blog.naver.com/goodprofile?Redirect=Log&logNo=222318050521']\n"
     ]
    }
   ],
   "metadata": {}
  },
  {
   "cell_type": "code",
   "execution_count": 25,
   "source": [
    "import pandas as pd\r\n",
    "wedtoon_df = pd.DataFrame({'제목': blog_list, '작성자': ID_list, '내용': content_list, '시간': time_list, '링크': link_list})\r\n",
    "wedtoon_df.head()"
   ],
   "outputs": [
    {
     "output_type": "execute_result",
     "data": {
      "text/plain": [
       "                                      제목                      작성자  \\\n",
       "0             코로나 백신 예방접종 증명서 발급 방법 COOV         살아있는인형가게 ``°³о♡    \n",
       "1  [약사엄마의 건강이야기] 코로나19 백신 2차 접종을 마치다...           힐링컴즈 / 수원메디칼약국    \n",
       "2    세파클러캅셀 항생제 알러지 경험자, 코로나 백신 접종했어요 :)                   하루기록장    \n",
       "3            코로나19 백신 1차 접종 완료 후기 - 존나좋군   Re: 제로부터 시작하는 이 세계 사활    \n",
       "4  아스트라제네카 코로나백신 7일차 후기 :: AZ신청/ 부작용...                101번째 타르트    \n",
       "\n",
       "                                                  내용           시간  \\\n",
       "0  병원에 근무하다보니 (의료진은 아니지만) 국내에 처음 코로나 예방접종이... 세계적...  2021.07.01.   \n",
       "1  드디어 #코로나19 백신 2차 접종을 마쳤다. 지난 4월에 1차 접종으로... 주에...  2021.07.15.   \n",
       "2  바로, 약물알레르기 보유자의 코로나 백신 접종 !!! 접종 전, 알레르기 내과......  2021.07.25.   \n",
       "3  드디어 오늘 코로나19 1차 예방 접종을 완료했습니다. 코비드19 COVID19 저...       10시간 전   \n",
       "4  코로나백신두통 #코로나백신삼겹살 #백신타이레놀 #아스트라제네카부작용 #코로나백신두통...  2021.05.06.   \n",
       "\n",
       "                                                  링크  \n",
       "0  https://blog.naver.com/green557?Redirect=Log&l...  \n",
       "1  https://blog.naver.com/happymedicalwriter?Redi...  \n",
       "2  https://blog.naver.com/talove0831?Redirect=Log...  \n",
       "3  https://blog.naver.com/ssangga2004?Redirect=Lo...  \n",
       "4  https://blog.naver.com/eggtta?Redirect=Log&log...  "
      ],
      "text/html": [
       "<div>\n",
       "<style scoped>\n",
       "    .dataframe tbody tr th:only-of-type {\n",
       "        vertical-align: middle;\n",
       "    }\n",
       "\n",
       "    .dataframe tbody tr th {\n",
       "        vertical-align: top;\n",
       "    }\n",
       "\n",
       "    .dataframe thead th {\n",
       "        text-align: right;\n",
       "    }\n",
       "</style>\n",
       "<table border=\"1\" class=\"dataframe\">\n",
       "  <thead>\n",
       "    <tr style=\"text-align: right;\">\n",
       "      <th></th>\n",
       "      <th>제목</th>\n",
       "      <th>작성자</th>\n",
       "      <th>내용</th>\n",
       "      <th>시간</th>\n",
       "      <th>링크</th>\n",
       "    </tr>\n",
       "  </thead>\n",
       "  <tbody>\n",
       "    <tr>\n",
       "      <th>0</th>\n",
       "      <td>코로나 백신 예방접종 증명서 발급 방법 COOV</td>\n",
       "      <td>살아있는인형가게 ``°³о♡</td>\n",
       "      <td>병원에 근무하다보니 (의료진은 아니지만) 국내에 처음 코로나 예방접종이... 세계적...</td>\n",
       "      <td>2021.07.01.</td>\n",
       "      <td>https://blog.naver.com/green557?Redirect=Log&amp;l...</td>\n",
       "    </tr>\n",
       "    <tr>\n",
       "      <th>1</th>\n",
       "      <td>[약사엄마의 건강이야기] 코로나19 백신 2차 접종을 마치다...</td>\n",
       "      <td>힐링컴즈 / 수원메디칼약국</td>\n",
       "      <td>드디어 #코로나19 백신 2차 접종을 마쳤다. 지난 4월에 1차 접종으로... 주에...</td>\n",
       "      <td>2021.07.15.</td>\n",
       "      <td>https://blog.naver.com/happymedicalwriter?Redi...</td>\n",
       "    </tr>\n",
       "    <tr>\n",
       "      <th>2</th>\n",
       "      <td>세파클러캅셀 항생제 알러지 경험자, 코로나 백신 접종했어요 :)</td>\n",
       "      <td>하루기록장</td>\n",
       "      <td>바로, 약물알레르기 보유자의 코로나 백신 접종 !!! 접종 전, 알레르기 내과......</td>\n",
       "      <td>2021.07.25.</td>\n",
       "      <td>https://blog.naver.com/talove0831?Redirect=Log...</td>\n",
       "    </tr>\n",
       "    <tr>\n",
       "      <th>3</th>\n",
       "      <td>코로나19 백신 1차 접종 완료 후기 - 존나좋군</td>\n",
       "      <td>Re: 제로부터 시작하는 이 세계 사활</td>\n",
       "      <td>드디어 오늘 코로나19 1차 예방 접종을 완료했습니다. 코비드19 COVID19 저...</td>\n",
       "      <td>10시간 전</td>\n",
       "      <td>https://blog.naver.com/ssangga2004?Redirect=Lo...</td>\n",
       "    </tr>\n",
       "    <tr>\n",
       "      <th>4</th>\n",
       "      <td>아스트라제네카 코로나백신 7일차 후기 :: AZ신청/ 부작용...</td>\n",
       "      <td>101번째 타르트</td>\n",
       "      <td>코로나백신두통 #코로나백신삼겹살 #백신타이레놀 #아스트라제네카부작용 #코로나백신두통...</td>\n",
       "      <td>2021.05.06.</td>\n",
       "      <td>https://blog.naver.com/eggtta?Redirect=Log&amp;log...</td>\n",
       "    </tr>\n",
       "  </tbody>\n",
       "</table>\n",
       "</div>"
      ]
     },
     "metadata": {},
     "execution_count": 25
    }
   ],
   "metadata": {}
  }
 ],
 "metadata": {
  "orig_nbformat": 4,
  "language_info": {
   "name": "python",
   "version": "3.8.0",
   "mimetype": "text/x-python",
   "codemirror_mode": {
    "name": "ipython",
    "version": 3
   },
   "pygments_lexer": "ipython3",
   "nbconvert_exporter": "python",
   "file_extension": ".py"
  },
  "kernelspec": {
   "name": "python3",
   "display_name": "Python 3.8.0 64-bit"
  },
  "interpreter": {
   "hash": "849534c005cb8882645b955213869bb67b6b3c38eb308ea405da3bad673d53ed"
  }
 },
 "nbformat": 4,
 "nbformat_minor": 2
}