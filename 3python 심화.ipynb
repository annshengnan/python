{
 "cells": [
  {
   "cell_type": "markdown",
   "id": "3714472a",
   "metadata": {},
   "source": [
    "###### Q1. 내장함수를 이용해서 list = [0,1,2,3,4,5,6]에서 2를 삭제 후 출력하세요"
   ]
  },
  {
   "cell_type": "code",
   "execution_count": 3,
   "id": "d071a71d",
   "metadata": {},
   "outputs": [
    {
     "name": "stdout",
     "output_type": "stream",
     "text": [
      "[0, 1, 3, 4, 5, 6]\n"
     ]
    }
   ],
   "source": []
  },
  {
   "cell_type": "markdown",
   "id": "61194fd8",
   "metadata": {},
   "source": [
    "###### Q2. 내장함수를 이용해서 list = [0.1.2.3.4.5.6]에서 모든 원소를 삭제 후 출력하세요"
   ]
  },
  {
   "cell_type": "code",
   "execution_count": 4,
   "id": "cf7b2d43",
   "metadata": {},
   "outputs": [
    {
     "name": "stdout",
     "output_type": "stream",
     "text": [
      "[]\n"
     ]
    }
   ],
   "source": []
  },
  {
   "cell_type": "markdown",
   "id": "0c44ebd3",
   "metadata": {},
   "source": [
    "###### Q3. list=[0,1,2,3,4,5,6]에 3,7이 포함되어 있는 지 확인하세요"
   ]
  },
  {
   "cell_type": "code",
   "execution_count": 3,
   "id": "866375df",
   "metadata": {},
   "outputs": [
    {
     "name": "stdout",
     "output_type": "stream",
     "text": [
      "3값 존재?= True \n",
      " 7값 존재?= False\n"
     ]
    }
   ],
   "source": []
  },
  {
   "cell_type": "markdown",
   "id": "ea8424e9",
   "metadata": {},
   "source": [
    "###### Q4. numbers 내부에 들어 있는 숫자가 몇 번 등장하는지를 출력하는 코드를 작성하세요\n",
    "- numbers = [3,6,3,5,8,2,9,7,4,3,6,3,5,8,2,9,7,4]"
   ]
  },
  {
   "cell_type": "code",
   "execution_count": 1,
   "id": "df5a015f",
   "metadata": {
    "scrolled": true
   },
   "outputs": [
    {
     "name": "stdout",
     "output_type": "stream",
     "text": [
      "2값은 2개 있습니다.\n",
      "3값은 4개 있습니다.\n",
      "4값은 2개 있습니다.\n",
      "5값은 2개 있습니다.\n",
      "6값은 2개 있습니다.\n",
      "7값은 2개 있습니다.\n",
      "8값은 2개 있습니다.\n",
      "9값은 2개 있습니다.\n"
     ]
    }
   ],
   "source": []
  },
  {
   "cell_type": "code",
   "execution_count": 27,
   "id": "1dfa6d8a",
   "metadata": {},
   "outputs": [
    {
     "name": "stdout",
     "output_type": "stream",
     "text": [
      "<class 'set'>\n",
      "{2, 3, 4, 5, 6, 7, 8, 9}\n"
     ]
    }
   ],
   "source": []
  },
  {
   "cell_type": "markdown",
   "id": "d8655201",
   "metadata": {},
   "source": [
    "###### Q5. list를 [6,5,4,3,2,1,0]으로 2가지 방법으로 출력하세요\n",
    "- list = [0,1,2,3,4,5,6]"
   ]
  },
  {
   "cell_type": "code",
   "execution_count": 5,
   "id": "300acae0",
   "metadata": {},
   "outputs": [
    {
     "name": "stdout",
     "output_type": "stream",
     "text": [
      "[6, 5, 4, 3, 2, 1, 0]\n",
      "\n",
      "\n",
      "[6, 5, 4, 3, 2, 1, 0]\n",
      "[0, 1, 2, 3, 4, 5, 6]\n"
     ]
    }
   ],
   "source": []
  },
  {
   "cell_type": "markdown",
   "id": "2dc9ca9c",
   "metadata": {},
   "source": [
    "###### Q6. list = ['a', 'b', 'c']을 for문을 사용해서 아래와 같이 출력하세요.\n",
    "- 1번째는 a입니다\n",
    "- 2번째는 b입니다\n",
    "- 3번째는 c입니다"
   ]
  },
  {
   "cell_type": "code",
   "execution_count": 7,
   "id": "ff00b2b3",
   "metadata": {},
   "outputs": [
    {
     "name": "stdout",
     "output_type": "stream",
     "text": [
      "1번째는 a입니다.\n",
      "2번째는 b입니다.\n",
      "3번째는 c입니다.\n"
     ]
    }
   ],
   "source": []
  },
  {
   "cell_type": "code",
   "execution_count": 11,
   "id": "aa5220f2",
   "metadata": {},
   "outputs": [
    {
     "name": "stdout",
     "output_type": "stream",
     "text": [
      "1번째는 a 입니다.\n",
      "2번째는 b 입니다.\n",
      "3번째는 c 입니다.\n"
     ]
    }
   ],
   "source": []
  },
  {
   "cell_type": "markdown",
   "id": "415cab1d",
   "metadata": {},
   "source": [
    "###### Q7. 코딩을 한 줄로 작성해서 동일한 결과를 출력하세요\n",
    "* [0,4,16,36,64,100,144,196,256,324]"
   ]
  },
  {
   "cell_type": "code",
   "execution_count": 8,
   "id": "614c84a7",
   "metadata": {},
   "outputs": [
    {
     "name": "stdout",
     "output_type": "stream",
     "text": [
      "[0, 4, 16, 36, 64, 100, 144, 196, 256, 324]\n"
     ]
    }
   ],
   "source": []
  },
  {
   "cell_type": "code",
   "execution_count": 15,
   "id": "752b2ec3",
   "metadata": {},
   "outputs": [
    {
     "name": "stdout",
     "output_type": "stream",
     "text": [
      "[0, 4, 16, 36, 64, 100, 144, 196, 256, 324]\n",
      "[0, 4, 16, 36, 64, 100, 144, 196, 256, 324]\n"
     ]
    }
   ],
   "source": []
  },
  {
   "cell_type": "markdown",
   "id": "d667b3a9",
   "metadata": {},
   "source": [
    "###### Q8. list = [0, 1, 2, 3, 4, 5, 6, 7, 8, 9]에서 아래와 같이 출력하세요"
   ]
  },
  {
   "cell_type": "code",
   "execution_count": 33,
   "id": "a34df875",
   "metadata": {},
   "outputs": [
    {
     "name": "stdout",
     "output_type": "stream",
     "text": [
      "A8_1: [0, 2, 4, 6, 8]\n",
      "A8_2: [1, 3, 5, 7, 9]\n",
      "A8_3: [2, 1, 0]\n"
     ]
    }
   ],
   "source": []
  },
  {
   "cell_type": "markdown",
   "id": "b782f65d",
   "metadata": {},
   "source": [
    "###### Q9. join 함수를 이용해서 ['a','b','c']을 아래와 같이 출력하세요.\n",
    "- a::b::c"
   ]
  },
  {
   "cell_type": "code",
   "execution_count": 37,
   "id": "5020272c",
   "metadata": {},
   "outputs": [
    {
     "name": "stdout",
     "output_type": "stream",
     "text": [
      "a::b::c\n"
     ]
    }
   ],
   "source": []
  },
  {
   "cell_type": "markdown",
   "id": "67b0362f",
   "metadata": {},
   "source": [
    "###### Q10. 사용자 함수를 이용해서 여러개의 숫자를 입력하면 그 숫자들의 곱을 구하세요."
   ]
  },
  {
   "cell_type": "code",
   "execution_count": 54,
   "id": "ad953cb8",
   "metadata": {},
   "outputs": [
    {
     "data": {
      "text/plain": [
       "120"
      ]
     },
     "execution_count": 54,
     "metadata": {},
     "output_type": "execute_result"
    }
   ],
   "source": []
  },
  {
   "cell_type": "markdown",
   "id": "61c1d2f1",
   "metadata": {},
   "source": [
    "###### Q11.두개의 숫자를 인자로 적용하면 4칙 연산을 수행하는 사용자 함수를 작성한 후  5,3을 대입한 결과를 튜플로 출력하세요. 단, 소수점은 없게 처리"
   ]
  },
  {
   "cell_type": "code",
   "execution_count": 21,
   "id": "2815a516",
   "metadata": {
    "scrolled": true
   },
   "outputs": [
    {
     "name": "stdout",
     "output_type": "stream",
     "text": [
      "<class 'tuple'>\n",
      "('add : 5 + 3 = 8', 'sub : 5 - 3 = 2', 'div : 5 / 3 = 1', 'mul : 5 * 3 = 15')\n"
     ]
    }
   ],
   "source": []
  },
  {
   "cell_type": "code",
   "execution_count": 22,
   "id": "fd13aa71",
   "metadata": {},
   "outputs": [
    {
     "data": {
      "text/plain": [
       "(8, 15, 2, 2)"
      ]
     },
     "execution_count": 22,
     "metadata": {},
     "output_type": "execute_result"
    }
   ],
   "source": []
  },
  {
   "cell_type": "code",
   "execution_count": 24,
   "id": "92e1ddc8",
   "metadata": {},
   "outputs": [
    {
     "name": "stdout",
     "output_type": "stream",
     "text": [
      "add/sub/div/mul : mul\n",
      "<class 'tuple'>\n",
      "('5 * 3 = 15',)\n"
     ]
    },
    {
     "data": {
      "text/plain": [
       "('5 * 3 = 15',)"
      ]
     },
     "execution_count": 24,
     "metadata": {},
     "output_type": "execute_result"
    }
   ],
   "source": []
  },
  {
   "cell_type": "markdown",
   "id": "e6475a0d",
   "metadata": {},
   "source": [
    "###### Q12. 뺄셈, 나눗셈 멀티 계산 함수를 작성"
   ]
  },
  {
   "cell_type": "code",
   "execution_count": 4,
   "id": "937eefd4",
   "metadata": {
    "scrolled": true
   },
   "outputs": [
    {
     "name": "stdout",
     "output_type": "stream",
     "text": [
      "sub? div? : div\n",
      "1.0\n",
      "0.3333333333333333\n",
      "0.06666666666666667\n"
     ]
    }
   ],
   "source": []
  },
  {
   "cell_type": "markdown",
   "id": "10533026",
   "metadata": {},
   "source": [
    "###### Q13. 아래를 완성하여 2를 출력하세요."
   ]
  },
  {
   "cell_type": "code",
   "execution_count": 16,
   "id": "7b5848cb",
   "metadata": {},
   "outputs": [
    {
     "data": {
      "text/plain": [
       "2"
      ]
     },
     "execution_count": 16,
     "metadata": {},
     "output_type": "execute_result"
    }
   ],
   "source": []
  },
  {
   "cell_type": "markdown",
   "id": "97c200e8",
   "metadata": {},
   "source": [
    "###### Q14. 데이터를 입력하지 않으면 종료되는 코딩을 수행하세요. \n",
    "- 단 반복적으로 작업을 수행할 수 있음."
   ]
  },
  {
   "cell_type": "code",
   "execution_count": 33,
   "id": "4cf6e937",
   "metadata": {},
   "outputs": [
    {
     "name": "stdout",
     "output_type": "stream",
     "text": [
      ":1\n",
      ":1\n",
      ":\n",
      "입력하신 데이터가 없어 종료합니다.\n"
     ]
    }
   ],
   "source": []
  },
  {
   "cell_type": "code",
   "execution_count": 32,
   "id": "e666b386",
   "metadata": {},
   "outputs": [
    {
     "name": "stdout",
     "output_type": "stream",
     "text": [
      "\n"
     ]
    }
   ],
   "source": []
  },
  {
   "cell_type": "markdown",
   "id": "a791791e",
   "metadata": {},
   "source": [
    "###### Q15. 반복문으로 팩토리얼을 구하는 사용자 함수를 작성하고 5!, 10!를 구하세요."
   ]
  },
  {
   "cell_type": "code",
   "execution_count": 21,
   "id": "400b4d06",
   "metadata": {},
   "outputs": [
    {
     "name": "stdout",
     "output_type": "stream",
     "text": [
      "5! = 120\n",
      "10! = 3628800\n"
     ]
    }
   ],
   "source": []
  },
  {
   "cell_type": "markdown",
   "id": "d198e393",
   "metadata": {},
   "source": [
    "###### Q16. 재귀란 '자기자신을 호출하는 것'을 의미한다. \n",
    "_재귀함수를 이용해서 팩토리얼을 구하는 사용자 함수를  작성하고 1!, 5!, 10!를 구하세요._\n",
    "- factorial(n) = n * factorial(n-1) (n >= 1)"
   ]
  },
  {
   "cell_type": "code",
   "execution_count": 22,
   "id": "ae18a321",
   "metadata": {
    "scrolled": true
   },
   "outputs": [
    {
     "data": {
      "text/plain": [
       "120"
      ]
     },
     "execution_count": 22,
     "metadata": {},
     "output_type": "execute_result"
    }
   ],
   "source": []
  },
  {
   "cell_type": "code",
   "execution_count": 36,
   "id": "41710f9f",
   "metadata": {},
   "outputs": [
    {
     "data": {
      "text/plain": [
       "6"
      ]
     },
     "execution_count": 36,
     "metadata": {},
     "output_type": "execute_result"
    }
   ],
   "source": []
  },
  {
   "cell_type": "markdown",
   "id": "99f54c4d",
   "metadata": {},
   "source": [
    "###### Q17 원의 면적과 둘레의 길이를 구하는 사용자 함수를 작성하여 반지름이 5와 10일때  면적과 둘레를 구하세요"
   ]
  },
  {
   "cell_type": "code",
   "execution_count": 43,
   "id": "a8b88b0b",
   "metadata": {},
   "outputs": [
    {
     "name": "stdout",
     "output_type": "stream",
     "text": [
      "원의 면적: 78.54 , 원의 둘레: 31.42\n",
      "원의 면적: 314.16 , 원의 둘레: 62.83\n"
     ]
    }
   ],
   "source": []
  },
  {
   "cell_type": "markdown",
   "id": "15dbc548",
   "metadata": {},
   "source": [
    "###### Q18. '안녕!'을 10번 출력하는 사용자 함수를 작성하여 실행하세요."
   ]
  },
  {
   "cell_type": "code",
   "execution_count": 24,
   "id": "6ef871fd",
   "metadata": {},
   "outputs": [
    {
     "name": "stdout",
     "output_type": "stream",
     "text": [
      "안녕!\n",
      "안녕!\n",
      "안녕!\n",
      "안녕!\n",
      "안녕!\n",
      "안녕!\n",
      "안녕!\n",
      "안녕!\n",
      "안녕!\n",
      "안녕!\n"
     ]
    }
   ],
   "source": []
  },
  {
   "cell_type": "markdown",
   "id": "d70f3307",
   "metadata": {},
   "source": [
    "###### Q19. 내장함수를 이용하여 [1,2,3,4,5]을 [1.0, 2.0, 3.0, 4.0, 5.0]로 변환하세요."
   ]
  },
  {
   "cell_type": "code",
   "execution_count": 25,
   "id": "5e9699c8",
   "metadata": {},
   "outputs": [
    {
     "name": "stdout",
     "output_type": "stream",
     "text": [
      "[1.0, 2.0, 3.0, 4.0, 5.0]\n"
     ]
    }
   ],
   "source": []
  },
  {
   "cell_type": "markdown",
   "id": "b45a79d4",
   "metadata": {},
   "source": [
    "###### Q20. 내장함수 map()를 이용하여 [1,2,3,4,5]을 [1, 4, 9, 16, 25]로 변환하세요"
   ]
  },
  {
   "cell_type": "code",
   "execution_count": 55,
   "id": "80fe9f90",
   "metadata": {},
   "outputs": [
    {
     "name": "stdout",
     "output_type": "stream",
     "text": [
      "[1, 4, 9, 16, 25]\n"
     ]
    }
   ],
   "source": []
  },
  {
   "cell_type": "markdown",
   "id": "e8f5304f",
   "metadata": {},
   "source": [
    "###### Q21\". 람다함수를 이용해서 아래와 같은 리스트를 출력하세요\n",
    "- list21: [1,2,3,4,5]\\\n",
    "- [1,4,9,16,25]\n",
    "- [1,2]"
   ]
  },
  {
   "cell_type": "code",
   "execution_count": null,
   "id": "73012ed8",
   "metadata": {},
   "outputs": [],
   "source": []
  }
 ],
 "metadata": {
  "kernelspec": {
   "display_name": "Python 3",
   "language": "python",
   "name": "python3"
  },
  "language_info": {
   "codemirror_mode": {
    "name": "ipython",
    "version": 3
   },
   "file_extension": ".py",
   "mimetype": "text/x-python",
   "name": "python",
   "nbconvert_exporter": "python",
   "pygments_lexer": "ipython3",
   "version": "3.8.8"
  },
  "toc": {
   "base_numbering": 1,
   "nav_menu": {},
   "number_sections": true,
   "sideBar": true,
   "skip_h1_title": false,
   "title_cell": "Table of Contents",
   "title_sidebar": "Contents",
   "toc_cell": false,
   "toc_position": {},
   "toc_section_display": true,
   "toc_window_display": false
  },
  "varInspector": {
   "cols": {
    "lenName": 16,
    "lenType": 16,
    "lenVar": 40
   },
   "kernels_config": {
    "python": {
     "delete_cmd_postfix": "",
     "delete_cmd_prefix": "del ",
     "library": "var_list.py",
     "varRefreshCmd": "print(var_dic_list())"
    },
    "r": {
     "delete_cmd_postfix": ") ",
     "delete_cmd_prefix": "rm(",
     "library": "var_list.r",
     "varRefreshCmd": "cat(var_dic_list()) "
    }
   },
   "types_to_exclude": [
    "module",
    "function",
    "builtin_function_or_method",
    "instance",
    "_Feature"
   ],
   "window_display": false
  }
 },
 "nbformat": 4,
 "nbformat_minor": 5
}
